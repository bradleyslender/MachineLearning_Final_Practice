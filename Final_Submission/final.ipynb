{
 "cells": [
  {
   "cell_type": "code",
   "execution_count": 57,
   "metadata": {},
   "outputs": [],
   "source": [
    "import pandas as pd\n",
    "import numpy as np\n",
    "import matplotlib.pyplot as plt\n",
    "from sklearn.metrics import roc_auc_score, roc_curve, make_scorer, f1_score, fbeta_score, precision_score, recall_score, confusion_matrix, classification_report, ConfusionMatrixDisplay\n",
    "from sklearn.model_selection import train_test_split, GridSearchCV\n",
    "from sklearn.ensemble import RandomForestClassifier\n",
    "from sklearn.tree import DecisionTreeClassifier\n",
    "from sklearn.preprocessing import StandardScaler\n",
    "from sklearn.preprocessing import LabelEncoder\n",
    "from sklearn.feature_selection import RFE"
   ]
  },
  {
   "cell_type": "code",
   "execution_count": 10,
   "metadata": {},
   "outputs": [
    {
     "name": "stdout",
     "output_type": "stream",
     "text": [
      "<class 'pandas.core.frame.DataFrame'>\n",
      "RangeIndex: 45009 entries, 0 to 45008\n",
      "Data columns (total 41 columns):\n",
      " #   Column                 Non-Null Count  Dtype  \n",
      "---  ------                 --------------  -----  \n",
      " 0   id                     45009 non-null  int64  \n",
      " 1   amount_tsh             45009 non-null  float64\n",
      " 2   date_recorded          45009 non-null  object \n",
      " 3   funder                 42233 non-null  object \n",
      " 4   gps_height             45009 non-null  int64  \n",
      " 5   installer              42227 non-null  object \n",
      " 6   longitude              45009 non-null  float64\n",
      " 7   latitude               45009 non-null  float64\n",
      " 8   wpt_name               45008 non-null  object \n",
      " 9   num_private            45009 non-null  int64  \n",
      " 10  basin                  45009 non-null  object \n",
      " 11  subvillage             44722 non-null  object \n",
      " 12  region                 45009 non-null  object \n",
      " 13  region_code            45009 non-null  int64  \n",
      " 14  district_code          45009 non-null  int64  \n",
      " 15  lga                    45009 non-null  object \n",
      " 16  ward                   45009 non-null  object \n",
      " 17  population             45009 non-null  int64  \n",
      " 18  public_meeting         42454 non-null  object \n",
      " 19  recorded_by            45009 non-null  object \n",
      " 20  scheme_management      42067 non-null  object \n",
      " 21  scheme_name            23227 non-null  object \n",
      " 22  permit                 42696 non-null  object \n",
      " 23  construction_year      45009 non-null  int64  \n",
      " 24  extraction_type        45009 non-null  object \n",
      " 25  extraction_type_group  45009 non-null  object \n",
      " 26  extraction_type_class  45009 non-null  object \n",
      " 27  management             45009 non-null  object \n",
      " 28  management_group       45009 non-null  object \n",
      " 29  payment                45009 non-null  object \n",
      " 30  payment_type           45009 non-null  object \n",
      " 31  water_quality          45009 non-null  object \n",
      " 32  quality_group          45009 non-null  object \n",
      " 33  quantity               45009 non-null  object \n",
      " 34  quantity_group         45009 non-null  object \n",
      " 35  source                 45009 non-null  object \n",
      " 36  source_type            45009 non-null  object \n",
      " 37  source_class           45009 non-null  object \n",
      " 38  waterpoint_type        45009 non-null  object \n",
      " 39  waterpoint_type_group  45009 non-null  object \n",
      " 40  status_group           45009 non-null  object \n",
      "dtypes: float64(3), int64(7), object(31)\n",
      "memory usage: 14.1+ MB\n"
     ]
    }
   ],
   "source": [
    "df = pd.read_csv(r'C:\\Users\\bradl\\OneDrive\\Documents\\GitHub\\MachineLearning_Final_Practice\\Data\\waterpump.csv')\n",
    "df.info()"
   ]
  },
  {
   "cell_type": "code",
   "execution_count": 13,
   "metadata": {},
   "outputs": [
    {
     "data": {
      "text/plain": [
       "id                       0.0\n",
       "scheme_name              0.0\n",
       "construction_year        0.0\n",
       "extraction_type          0.0\n",
       "extraction_type_group    0.0\n",
       "extraction_type_class    0.0\n",
       "management               0.0\n",
       "management_group         0.0\n",
       "payment                  0.0\n",
       "payment_type             0.0\n",
       "water_quality            0.0\n",
       "quality_group            0.0\n",
       "quantity                 0.0\n",
       "quantity_group           0.0\n",
       "source                   0.0\n",
       "source_type              0.0\n",
       "source_class             0.0\n",
       "waterpoint_type          0.0\n",
       "waterpoint_type_group    0.0\n",
       "permit                   0.0\n",
       "scheme_management        0.0\n",
       "amount_tsh               0.0\n",
       "recorded_by              0.0\n",
       "date_recorded            0.0\n",
       "funder                   0.0\n",
       "gps_height               0.0\n",
       "installer                0.0\n",
       "longitude                0.0\n",
       "latitude                 0.0\n",
       "wpt_name                 0.0\n",
       "num_private              0.0\n",
       "basin                    0.0\n",
       "subvillage               0.0\n",
       "region                   0.0\n",
       "region_code              0.0\n",
       "district_code            0.0\n",
       "lga                      0.0\n",
       "ward                     0.0\n",
       "population               0.0\n",
       "public_meeting           0.0\n",
       "status_group             0.0\n",
       "dtype: float64"
      ]
     },
     "execution_count": 13,
     "metadata": {},
     "output_type": "execute_result"
    }
   ],
   "source": [
    "missing = df.isnull().sum()/len(df) * 100\n",
    "missing.sort_values(ascending=False)"
   ]
  },
  {
   "cell_type": "code",
   "execution_count": 12,
   "metadata": {},
   "outputs": [],
   "source": [
    "#filling missing values with the mean\n",
    "\n",
    "df['scheme_name'] = df['scheme_name'].fillna('None')\n",
    "df['scheme_management'] = df['scheme_management'].fillna('None')\n",
    "df['installer'] = df['installer'].fillna('None')\n",
    "df['funder'] = df['funder'].fillna('None')\n",
    "df['public_meeting'] = df['public_meeting'].fillna('None')\n",
    "df['permit'] = df['permit'].fillna('None')\n",
    "df['subvillage'] = df['subvillage'].fillna('None')\n",
    "df['wpt_name'] = df['ward'].fillna('None')"
   ]
  },
  {
   "cell_type": "code",
   "execution_count": 19,
   "metadata": {},
   "outputs": [],
   "source": [
    "#begin label encoding categorical variables\n",
    "\n",
    "\n",
    "le = LabelEncoder()\n",
    "df['funder'] = le.fit_transform(df['funder'])\n",
    "df['funder'] = le.fit_transform(df['funder'])\n",
    "df['public_meeting'] = df['public_meeting'].astype(str)\n",
    "df['public_meeting'] = le.fit_transform(df['public_meeting'])\n",
    "df['management'] = le.fit_transform(df['management'])\n",
    "df['management_group'] = le.fit_transform(df['management_group'])\n",
    "df['payment'] = le.fit_transform(df['payment'])\n",
    "df['payment_type'] = le.fit_transform(df['payment_type'])\n",
    "df['water_quality'] = le.fit_transform(df['water_quality'])\n",
    "df['quality_group'] = le.fit_transform(df['quality_group'])\n",
    "df['quantity'] = le.fit_transform(df['quantity'])\n",
    "df['quantity_group'] = le.fit_transform(df['quantity_group'])\n",
    "df['source'] = le.fit_transform(df['source'])\n",
    "df['source_type'] = le.fit_transform(df['source_type'])\n",
    "df['source_class'] = le.fit_transform(df['source_class'])\n",
    "df['waterpoint_type'] = le.fit_transform(df['waterpoint_type'])\n",
    "df['waterpoint_type_group'] = le.fit_transform(df['waterpoint_type_group'])\n"
   ]
  },
  {
   "cell_type": "code",
   "execution_count": 24,
   "metadata": {},
   "outputs": [
    {
     "data": {
      "text/plain": [
       "status_group\n",
       "1    27650\n",
       "0    17359\n",
       "Name: count, dtype: int64"
      ]
     },
     "execution_count": 24,
     "metadata": {},
     "output_type": "execute_result"
    }
   ],
   "source": [
    "#adjust target feature to binary and combine functional and functional needs repair\n",
    "\n",
    "df['status_group'] = df['status_group'].replace({'functional': 1, 'non functional': 0, 'functional needs repair': 1})\n",
    "\n",
    "df['status_group'].value_counts()\n"
   ]
  },
  {
   "cell_type": "code",
   "execution_count": 33,
   "metadata": {},
   "outputs": [],
   "source": [
    "#create new_df that omits all 'objects'\n",
    "\n",
    "new_df = df.select_dtypes(exclude=['object'])"
   ]
  },
  {
   "cell_type": "code",
   "execution_count": 52,
   "metadata": {},
   "outputs": [],
   "source": [
    "#splitting data into training and testing sets\n",
    "\n",
    "X = new_df.drop('status_group', axis=1)\n",
    "y = new_df['status_group']\n",
    "\n",
    "X_train, X_test, y_train, y_test = train_test_split(X, y, test_size=0.2, random_state=24, stratify=y)"
   ]
  },
  {
   "cell_type": "code",
   "execution_count": 55,
   "metadata": {},
   "outputs": [
    {
     "name": "stdout",
     "output_type": "stream",
     "text": [
      "{'max_depth': 5, 'min_samples_leaf': 0.01}\n",
      "0.8344631532910562\n",
      "0.8337169616636241\n"
     ]
    }
   ],
   "source": [
    "#decision tree classifier model\n",
    "\n",
    "clf_params = {'max_depth': [4,5,6,7],\n",
    "              'min_samples_leaf': [0.01, 0.025, 0.04]}\n",
    "\n",
    "clf = GridSearchCV(DecisionTreeClassifier(), param_grid=clf_params, cv=5, scoring='f1', n_jobs=-1)\n",
    "clf.fit(X_train, y_train)\n",
    "\n",
    "print(clf.best_params_)\n",
    "print(clf.score(X_train, y_train))\n",
    "print(clf.score(X_test, y_test))\n",
    "\n",
    "#slight overfitting - manageable"
   ]
  },
  {
   "cell_type": "code",
   "execution_count": 56,
   "metadata": {},
   "outputs": [
    {
     "data": {
      "image/png": "[encoded data removed]",
      "text/plain": [
       "<Figure size 640x480 with 1 Axes>"
      ]
     },
     "metadata": {},
     "output_type": "display_data"
    }
   ],
   "source": [
    "#predicting on test set\n",
    "\n",
    "y_pred = clf.predict(X_test)\n",
    "\n",
    "#feature importance\n",
    "\n",
    "importances = clf.best_estimator_.feature_importances_\n",
    "features = X_train.columns\n",
    "indices = np.argsort(importances)[-10:]\n",
    "\n",
    "plt.title('Feature Importances')\n",
    "plt.barh(range(len(indices)), importances[indices], color='b', align='center')\n",
    "plt.yticks(range(len(indices)), [features[i] for i in indices])\n",
    "plt.xlabel('Relative Importance')\n",
    "plt.show()"
   ]
  },
  {
   "cell_type": "code",
   "execution_count": 59,
   "metadata": {},
   "outputs": [
    {
     "name": "stdout",
     "output_type": "stream",
     "text": [
      "              precision    recall  f1-score   support\n",
      "\n",
      "           0       0.86      0.48      0.61      3472\n",
      "           1       0.74      0.95      0.83      5530\n",
      "\n",
      "    accuracy                           0.77      9002\n",
      "   macro avg       0.80      0.71      0.72      9002\n",
      "weighted avg       0.79      0.77      0.75      9002\n",
      "\n"
     ]
    },
    {
     "data": {
      "image/png": "[encoded data removed]",
      "text/plain": [
       "<Figure size 640x480 with 2 Axes>"
      ]
     },
     "metadata": {},
     "output_type": "display_data"
    }
   ],
   "source": [
    "#confusion matrix\n",
    "\n",
    "confusion_matrix(y_test, y_pred)\n",
    "ConfusionMatrixDisplay(confusion_matrix(y_test, y_pred)).plot()\n",
    "\n",
    "#classification report\n",
    "\n",
    "print(classification_report(y_test, y_pred))\n"
   ]
  },
  {
   "cell_type": "code",
   "execution_count": 64,
   "metadata": {},
   "outputs": [
    {
     "data": {
      "text/plain": [
       "(45009, 6)"
      ]
     },
     "execution_count": 64,
     "metadata": {},
     "output_type": "execute_result"
    }
   ],
   "source": [
    "#store top features to use in random forest model\n",
    "\n",
    "top_features = [features[i] for i in indices]\n",
    "\n",
    "#random forest model dataframe with target feature and top features\n",
    "\n",
    "top_df = new_df[top_features]\n",
    "top_df = pd.concat([top_df, new_df['status_group']], axis=1)"
   ]
  },
  {
   "cell_type": "code",
   "execution_count": 72,
   "metadata": {},
   "outputs": [],
   "source": [
    "#random forest classifier model\n",
    "\n",
    "new_X = top_df.drop('status_group', axis=1)\n",
    "new_y = top_df['status_group']\n",
    "\n",
    "rf_X_train, rf_X_test, rf_y_train, rf_y_test = train_test_split(new_X, new_y, test_size=0.2, random_state=24, stratify=new_y)"
   ]
  },
  {
   "cell_type": "code",
   "execution_count": 73,
   "metadata": {},
   "outputs": [
    {
     "name": "stdout",
     "output_type": "stream",
     "text": [
      "{'max_depth': 8, 'min_samples_leaf': 0.01, 'n_estimators': 50}\n",
      "0.8375698074209512\n",
      "0.8359468279869458\n"
     ]
    }
   ],
   "source": [
    "rf_params = {'max_depth': [4,6,8],\n",
    "             'min_samples_leaf': [0.01, 0.25],\n",
    "             'n_estimators': [10, 50, 60]}\n",
    "\n",
    "rf = GridSearchCV(RandomForestClassifier(), param_grid=rf_params, cv=5, scoring='f1', n_jobs=-1)\n",
    "rf.fit(rf_X_train, rf_y_train)\n",
    "\n",
    "print(rf.best_params_)\n",
    "print(rf.score(rf_X_train, rf_y_train))\n",
    "print(rf.score(rf_X_test, rf_y_test))"
   ]
  },
  {
   "cell_type": "code",
   "execution_count": 75,
   "metadata": {},
   "outputs": [
    {
     "name": "stdout",
     "output_type": "stream",
     "text": [
      "              precision    recall  f1-score   support\n",
      "\n",
      "           0       0.86      0.49      0.62      3472\n",
      "           1       0.75      0.95      0.84      5530\n",
      "\n",
      "    accuracy                           0.77      9002\n",
      "   macro avg       0.80      0.72      0.73      9002\n",
      "weighted avg       0.79      0.77      0.75      9002\n",
      "\n"
     ]
    },
    {
     "data": {
      "image/png": "[encoded data removed]",
      "text/plain": [
       "<Figure size 640x480 with 2 Axes>"
      ]
     },
     "metadata": {},
     "output_type": "display_data"
    }
   ],
   "source": [
    "y_pred_rf = rf.predict(rf_X_test)\n",
    "\n",
    "#confusion matrix\n",
    "\n",
    "confusion_matrix(rf_y_test, y_pred_rf)\n",
    "ConfusionMatrixDisplay(confusion_matrix(rf_y_test, y_pred_rf)).plot()\n",
    "\n",
    "#classification report\n",
    "\n",
    "print(classification_report(rf_y_test, y_pred_rf))"
   ]
  },
  {
   "cell_type": "code",
   "execution_count": null,
   "metadata": {},
   "outputs": [],
   "source": []
  }
 ],
 "metadata": {
  "kernelspec": {
   "display_name": "Python 3",
   "language": "python",
   "name": "python3"
  },
  "language_info": {
   "codemirror_mode": {
    "name": "ipython",
    "version": 3
   },
   "file_extension": ".py",
   "mimetype": "text/x-python",
   "name": "python",
   "nbconvert_exporter": "python",
   "pygments_lexer": "ipython3",
   "version": "3.12.3"
  }
 },
 "nbformat": 4,
 "nbformat_minor": 2
}
