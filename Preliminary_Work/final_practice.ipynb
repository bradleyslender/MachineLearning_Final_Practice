{
 "cells": [
  {
   "cell_type": "code",
   "execution_count": 40,
   "metadata": {},
   "outputs": [],
   "source": [
    "import pandas as pd"
   ]
  },
  {
   "cell_type": "code",
   "execution_count": 43,
   "metadata": {},
   "outputs": [],
   "source": [
    "df = pd.read_csv(r'C:\\Users\\bradl\\OneDrive\\Desktop\\ML_Final Prep\\House Pricing Data (2).csv')"
   ]
  },
  {
   "cell_type": "code",
   "execution_count": 76,
   "metadata": {},
   "outputs": [
    {
     "name": "stdout",
     "output_type": "stream",
     "text": [
      "<class 'pandas.core.frame.DataFrame'>\n",
      "RangeIndex: 1460 entries, 0 to 1459\n",
      "Data columns (total 75 columns):\n",
      " #   Column         Non-Null Count  Dtype \n",
      "---  ------         --------------  ----- \n",
      " 0   Id             1460 non-null   int64 \n",
      " 1   MSSubClass     1460 non-null   int64 \n",
      " 2   MSZoning       1460 non-null   object\n",
      " 3   LotFrontage    1460 non-null   object\n",
      " 4   LotArea        1460 non-null   int64 \n",
      " 5   Street         1460 non-null   object\n",
      " 6   LotShape       1460 non-null   object\n",
      " 7   LandContour    1460 non-null   object\n",
      " 8   Utilities      1460 non-null   object\n",
      " 9   LotConfig      1460 non-null   object\n",
      " 10  LandSlope      1460 non-null   object\n",
      " 11  Neighborhood   1460 non-null   object\n",
      " 12  Condition1     1460 non-null   object\n",
      " 13  Condition2     1460 non-null   object\n",
      " 14  BldgType       1460 non-null   object\n",
      " 15  HouseStyle     1460 non-null   object\n",
      " 16  OverallQual    1460 non-null   int64 \n",
      " 17  OverallCond    1460 non-null   int64 \n",
      " 18  YearBuilt      1460 non-null   int64 \n",
      " 19  YearRemodAdd   1460 non-null   int64 \n",
      " 20  RoofStyle      1460 non-null   object\n",
      " 21  RoofMatl       1460 non-null   object\n",
      " 22  Exterior1st    1460 non-null   object\n",
      " 23  Exterior2nd    1460 non-null   object\n",
      " 24  MasVnrArea     1460 non-null   object\n",
      " 25  ExterQual      1460 non-null   object\n",
      " 26  ExterCond      1460 non-null   object\n",
      " 27  Foundation     1460 non-null   object\n",
      " 28  BsmtQual       1460 non-null   object\n",
      " 29  BsmtCond       1460 non-null   object\n",
      " 30  BsmtExposure   1460 non-null   object\n",
      " 31  BsmtFinType1   1460 non-null   object\n",
      " 32  BsmtFinSF1     1460 non-null   int64 \n",
      " 33  BsmtFinType2   1460 non-null   object\n",
      " 34  BsmtFinSF2     1460 non-null   int64 \n",
      " 35  BsmtUnfSF      1460 non-null   int64 \n",
      " 36  TotalBsmtSF    1460 non-null   int64 \n",
      " 37  Heating        1460 non-null   object\n",
      " 38  HeatingQC      1460 non-null   object\n",
      " 39  CentralAir     1460 non-null   object\n",
      " 40  Electrical     1460 non-null   object\n",
      " 41  1stFlrSF       1460 non-null   int64 \n",
      " 42  2ndFlrSF       1460 non-null   int64 \n",
      " 43  LowQualFinSF   1460 non-null   int64 \n",
      " 44  GrLivArea      1460 non-null   int64 \n",
      " 45  BsmtFullBath   1460 non-null   int64 \n",
      " 46  BsmtHalfBath   1460 non-null   int64 \n",
      " 47  FullBath       1460 non-null   int64 \n",
      " 48  HalfBath       1460 non-null   int64 \n",
      " 49  BedroomAbvGr   1460 non-null   int64 \n",
      " 50  KitchenAbvGr   1460 non-null   int64 \n",
      " 51  KitchenQual    1460 non-null   object\n",
      " 52  TotRmsAbvGrd   1460 non-null   int64 \n",
      " 53  Functional     1460 non-null   object\n",
      " 54  Fireplaces     1460 non-null   int64 \n",
      " 55  GarageType     1460 non-null   object\n",
      " 56  GarageYrBlt    1460 non-null   object\n",
      " 57  GarageFinish   1460 non-null   object\n",
      " 58  GarageCars     1460 non-null   int64 \n",
      " 59  GarageArea     1460 non-null   int64 \n",
      " 60  GarageQual     1460 non-null   object\n",
      " 61  GarageCond     1460 non-null   object\n",
      " 62  PavedDrive     1460 non-null   object\n",
      " 63  WoodDeckSF     1460 non-null   int64 \n",
      " 64  OpenPorchSF    1460 non-null   int64 \n",
      " 65  EnclosedPorch  1460 non-null   int64 \n",
      " 66  3SsnPorch      1460 non-null   int64 \n",
      " 67  ScreenPorch    1460 non-null   int64 \n",
      " 68  PoolArea       1460 non-null   int64 \n",
      " 69  MiscVal        1460 non-null   int64 \n",
      " 70  MoSold         1460 non-null   int64 \n",
      " 71  YrSold         1460 non-null   int64 \n",
      " 72  SaleType       1460 non-null   object\n",
      " 73  SaleCondition  1460 non-null   object\n",
      " 74  SalePrice      1460 non-null   int64 \n",
      "dtypes: int64(35), object(40)\n",
      "memory usage: 855.6+ KB\n"
     ]
    }
   ],
   "source": [
    "df.info(verbose=True)"
   ]
  },
  {
   "cell_type": "code",
   "execution_count": 45,
   "metadata": {},
   "outputs": [
    {
     "data": {
      "text/html": [
       "<div>\n",
       "<style scoped>\n",
       "    .dataframe tbody tr th:only-of-type {\n",
       "        vertical-align: middle;\n",
       "    }\n",
       "\n",
       "    .dataframe tbody tr th {\n",
       "        vertical-align: top;\n",
       "    }\n",
       "\n",
       "    .dataframe thead th {\n",
       "        text-align: right;\n",
       "    }\n",
       "</style>\n",
       "<table border=\"1\" class=\"dataframe\">\n",
       "  <thead>\n",
       "    <tr style=\"text-align: right;\">\n",
       "      <th></th>\n",
       "      <th>Id</th>\n",
       "      <th>MSSubClass</th>\n",
       "      <th>MSZoning</th>\n",
       "      <th>LotFrontage</th>\n",
       "      <th>LotArea</th>\n",
       "      <th>Street</th>\n",
       "      <th>Alley</th>\n",
       "      <th>LotShape</th>\n",
       "      <th>LandContour</th>\n",
       "      <th>Utilities</th>\n",
       "      <th>...</th>\n",
       "      <th>PoolArea</th>\n",
       "      <th>PoolQC</th>\n",
       "      <th>Fence</th>\n",
       "      <th>MiscFeature</th>\n",
       "      <th>MiscVal</th>\n",
       "      <th>MoSold</th>\n",
       "      <th>YrSold</th>\n",
       "      <th>SaleType</th>\n",
       "      <th>SaleCondition</th>\n",
       "      <th>SalePrice</th>\n",
       "    </tr>\n",
       "  </thead>\n",
       "  <tbody>\n",
       "    <tr>\n",
       "      <th>0</th>\n",
       "      <td>1</td>\n",
       "      <td>60</td>\n",
       "      <td>RL</td>\n",
       "      <td>65.0</td>\n",
       "      <td>8450</td>\n",
       "      <td>Pave</td>\n",
       "      <td>NaN</td>\n",
       "      <td>Reg</td>\n",
       "      <td>Lvl</td>\n",
       "      <td>AllPub</td>\n",
       "      <td>...</td>\n",
       "      <td>0</td>\n",
       "      <td>NaN</td>\n",
       "      <td>NaN</td>\n",
       "      <td>NaN</td>\n",
       "      <td>0</td>\n",
       "      <td>2</td>\n",
       "      <td>2008</td>\n",
       "      <td>WD</td>\n",
       "      <td>Normal</td>\n",
       "      <td>208500</td>\n",
       "    </tr>\n",
       "    <tr>\n",
       "      <th>1</th>\n",
       "      <td>2</td>\n",
       "      <td>20</td>\n",
       "      <td>RL</td>\n",
       "      <td>80.0</td>\n",
       "      <td>9600</td>\n",
       "      <td>Pave</td>\n",
       "      <td>NaN</td>\n",
       "      <td>Reg</td>\n",
       "      <td>Lvl</td>\n",
       "      <td>AllPub</td>\n",
       "      <td>...</td>\n",
       "      <td>0</td>\n",
       "      <td>NaN</td>\n",
       "      <td>NaN</td>\n",
       "      <td>NaN</td>\n",
       "      <td>0</td>\n",
       "      <td>5</td>\n",
       "      <td>2007</td>\n",
       "      <td>WD</td>\n",
       "      <td>Normal</td>\n",
       "      <td>181500</td>\n",
       "    </tr>\n",
       "    <tr>\n",
       "      <th>2</th>\n",
       "      <td>3</td>\n",
       "      <td>60</td>\n",
       "      <td>RL</td>\n",
       "      <td>68.0</td>\n",
       "      <td>11250</td>\n",
       "      <td>Pave</td>\n",
       "      <td>NaN</td>\n",
       "      <td>IR1</td>\n",
       "      <td>Lvl</td>\n",
       "      <td>AllPub</td>\n",
       "      <td>...</td>\n",
       "      <td>0</td>\n",
       "      <td>NaN</td>\n",
       "      <td>NaN</td>\n",
       "      <td>NaN</td>\n",
       "      <td>0</td>\n",
       "      <td>9</td>\n",
       "      <td>2008</td>\n",
       "      <td>WD</td>\n",
       "      <td>Normal</td>\n",
       "      <td>223500</td>\n",
       "    </tr>\n",
       "    <tr>\n",
       "      <th>3</th>\n",
       "      <td>4</td>\n",
       "      <td>70</td>\n",
       "      <td>RL</td>\n",
       "      <td>60.0</td>\n",
       "      <td>9550</td>\n",
       "      <td>Pave</td>\n",
       "      <td>NaN</td>\n",
       "      <td>IR1</td>\n",
       "      <td>Lvl</td>\n",
       "      <td>AllPub</td>\n",
       "      <td>...</td>\n",
       "      <td>0</td>\n",
       "      <td>NaN</td>\n",
       "      <td>NaN</td>\n",
       "      <td>NaN</td>\n",
       "      <td>0</td>\n",
       "      <td>2</td>\n",
       "      <td>2006</td>\n",
       "      <td>WD</td>\n",
       "      <td>Abnorml</td>\n",
       "      <td>140000</td>\n",
       "    </tr>\n",
       "    <tr>\n",
       "      <th>4</th>\n",
       "      <td>5</td>\n",
       "      <td>60</td>\n",
       "      <td>RL</td>\n",
       "      <td>84.0</td>\n",
       "      <td>14260</td>\n",
       "      <td>Pave</td>\n",
       "      <td>NaN</td>\n",
       "      <td>IR1</td>\n",
       "      <td>Lvl</td>\n",
       "      <td>AllPub</td>\n",
       "      <td>...</td>\n",
       "      <td>0</td>\n",
       "      <td>NaN</td>\n",
       "      <td>NaN</td>\n",
       "      <td>NaN</td>\n",
       "      <td>0</td>\n",
       "      <td>12</td>\n",
       "      <td>2008</td>\n",
       "      <td>WD</td>\n",
       "      <td>Normal</td>\n",
       "      <td>250000</td>\n",
       "    </tr>\n",
       "    <tr>\n",
       "      <th>5</th>\n",
       "      <td>6</td>\n",
       "      <td>50</td>\n",
       "      <td>RL</td>\n",
       "      <td>85.0</td>\n",
       "      <td>14115</td>\n",
       "      <td>Pave</td>\n",
       "      <td>NaN</td>\n",
       "      <td>IR1</td>\n",
       "      <td>Lvl</td>\n",
       "      <td>AllPub</td>\n",
       "      <td>...</td>\n",
       "      <td>0</td>\n",
       "      <td>NaN</td>\n",
       "      <td>MnPrv</td>\n",
       "      <td>Shed</td>\n",
       "      <td>700</td>\n",
       "      <td>10</td>\n",
       "      <td>2009</td>\n",
       "      <td>WD</td>\n",
       "      <td>Normal</td>\n",
       "      <td>143000</td>\n",
       "    </tr>\n",
       "    <tr>\n",
       "      <th>6</th>\n",
       "      <td>7</td>\n",
       "      <td>20</td>\n",
       "      <td>RL</td>\n",
       "      <td>75.0</td>\n",
       "      <td>10084</td>\n",
       "      <td>Pave</td>\n",
       "      <td>NaN</td>\n",
       "      <td>Reg</td>\n",
       "      <td>Lvl</td>\n",
       "      <td>AllPub</td>\n",
       "      <td>...</td>\n",
       "      <td>0</td>\n",
       "      <td>NaN</td>\n",
       "      <td>NaN</td>\n",
       "      <td>NaN</td>\n",
       "      <td>0</td>\n",
       "      <td>8</td>\n",
       "      <td>2007</td>\n",
       "      <td>WD</td>\n",
       "      <td>Normal</td>\n",
       "      <td>307000</td>\n",
       "    </tr>\n",
       "    <tr>\n",
       "      <th>7</th>\n",
       "      <td>8</td>\n",
       "      <td>60</td>\n",
       "      <td>RL</td>\n",
       "      <td>NaN</td>\n",
       "      <td>10382</td>\n",
       "      <td>Pave</td>\n",
       "      <td>NaN</td>\n",
       "      <td>IR1</td>\n",
       "      <td>Lvl</td>\n",
       "      <td>AllPub</td>\n",
       "      <td>...</td>\n",
       "      <td>0</td>\n",
       "      <td>NaN</td>\n",
       "      <td>NaN</td>\n",
       "      <td>Shed</td>\n",
       "      <td>350</td>\n",
       "      <td>11</td>\n",
       "      <td>2009</td>\n",
       "      <td>WD</td>\n",
       "      <td>Normal</td>\n",
       "      <td>200000</td>\n",
       "    </tr>\n",
       "    <tr>\n",
       "      <th>8</th>\n",
       "      <td>9</td>\n",
       "      <td>50</td>\n",
       "      <td>RM</td>\n",
       "      <td>51.0</td>\n",
       "      <td>6120</td>\n",
       "      <td>Pave</td>\n",
       "      <td>NaN</td>\n",
       "      <td>Reg</td>\n",
       "      <td>Lvl</td>\n",
       "      <td>AllPub</td>\n",
       "      <td>...</td>\n",
       "      <td>0</td>\n",
       "      <td>NaN</td>\n",
       "      <td>NaN</td>\n",
       "      <td>NaN</td>\n",
       "      <td>0</td>\n",
       "      <td>4</td>\n",
       "      <td>2008</td>\n",
       "      <td>WD</td>\n",
       "      <td>Abnorml</td>\n",
       "      <td>129900</td>\n",
       "    </tr>\n",
       "    <tr>\n",
       "      <th>9</th>\n",
       "      <td>10</td>\n",
       "      <td>190</td>\n",
       "      <td>RL</td>\n",
       "      <td>50.0</td>\n",
       "      <td>7420</td>\n",
       "      <td>Pave</td>\n",
       "      <td>NaN</td>\n",
       "      <td>Reg</td>\n",
       "      <td>Lvl</td>\n",
       "      <td>AllPub</td>\n",
       "      <td>...</td>\n",
       "      <td>0</td>\n",
       "      <td>NaN</td>\n",
       "      <td>NaN</td>\n",
       "      <td>NaN</td>\n",
       "      <td>0</td>\n",
       "      <td>1</td>\n",
       "      <td>2008</td>\n",
       "      <td>WD</td>\n",
       "      <td>Normal</td>\n",
       "      <td>118000</td>\n",
       "    </tr>\n",
       "  </tbody>\n",
       "</table>\n",
       "<p>10 rows × 81 columns</p>\n",
       "</div>"
      ],
      "text/plain": [
       "   Id  MSSubClass MSZoning  LotFrontage  LotArea Street Alley LotShape  \\\n",
       "0   1          60       RL         65.0     8450   Pave   NaN      Reg   \n",
       "1   2          20       RL         80.0     9600   Pave   NaN      Reg   \n",
       "2   3          60       RL         68.0    11250   Pave   NaN      IR1   \n",
       "3   4          70       RL         60.0     9550   Pave   NaN      IR1   \n",
       "4   5          60       RL         84.0    14260   Pave   NaN      IR1   \n",
       "5   6          50       RL         85.0    14115   Pave   NaN      IR1   \n",
       "6   7          20       RL         75.0    10084   Pave   NaN      Reg   \n",
       "7   8          60       RL          NaN    10382   Pave   NaN      IR1   \n",
       "8   9          50       RM         51.0     6120   Pave   NaN      Reg   \n",
       "9  10         190       RL         50.0     7420   Pave   NaN      Reg   \n",
       "\n",
       "  LandContour Utilities  ... PoolArea PoolQC  Fence MiscFeature MiscVal  \\\n",
       "0         Lvl    AllPub  ...        0    NaN    NaN         NaN       0   \n",
       "1         Lvl    AllPub  ...        0    NaN    NaN         NaN       0   \n",
       "2         Lvl    AllPub  ...        0    NaN    NaN         NaN       0   \n",
       "3         Lvl    AllPub  ...        0    NaN    NaN         NaN       0   \n",
       "4         Lvl    AllPub  ...        0    NaN    NaN         NaN       0   \n",
       "5         Lvl    AllPub  ...        0    NaN  MnPrv        Shed     700   \n",
       "6         Lvl    AllPub  ...        0    NaN    NaN         NaN       0   \n",
       "7         Lvl    AllPub  ...        0    NaN    NaN        Shed     350   \n",
       "8         Lvl    AllPub  ...        0    NaN    NaN         NaN       0   \n",
       "9         Lvl    AllPub  ...        0    NaN    NaN         NaN       0   \n",
       "\n",
       "  MoSold YrSold  SaleType  SaleCondition  SalePrice  \n",
       "0      2   2008        WD         Normal     208500  \n",
       "1      5   2007        WD         Normal     181500  \n",
       "2      9   2008        WD         Normal     223500  \n",
       "3      2   2006        WD        Abnorml     140000  \n",
       "4     12   2008        WD         Normal     250000  \n",
       "5     10   2009        WD         Normal     143000  \n",
       "6      8   2007        WD         Normal     307000  \n",
       "7     11   2009        WD         Normal     200000  \n",
       "8      4   2008        WD        Abnorml     129900  \n",
       "9      1   2008        WD         Normal     118000  \n",
       "\n",
       "[10 rows x 81 columns]"
      ]
     },
     "execution_count": 45,
     "metadata": {},
     "output_type": "execute_result"
    }
   ],
   "source": [
    "df.head(10)"
   ]
  },
  {
   "cell_type": "code",
   "execution_count": 74,
   "metadata": {},
   "outputs": [],
   "source": [
    "missing = df.isnull().sum() / len(df) * 100"
   ]
  },
  {
   "cell_type": "code",
   "execution_count": 69,
   "metadata": {},
   "outputs": [],
   "source": [
    "missing.sort_values(ascending=False)\n",
    "threshold = len(df) * 0.7\n",
    "df.dropna(thresh=threshold, axis=1, inplace=True)"
   ]
  },
  {
   "cell_type": "code",
   "execution_count": 75,
   "metadata": {},
   "outputs": [
    {
     "data": {
      "text/plain": [
       "Id              0.0\n",
       "GarageYrBlt     0.0\n",
       "Fireplaces      0.0\n",
       "Functional      0.0\n",
       "TotRmsAbvGrd    0.0\n",
       "               ... \n",
       "MasVnrArea      0.0\n",
       "Exterior2nd     0.0\n",
       "Exterior1st     0.0\n",
       "RoofMatl        0.0\n",
       "SalePrice       0.0\n",
       "Length: 75, dtype: float64"
      ]
     },
     "execution_count": 75,
     "metadata": {},
     "output_type": "execute_result"
    }
   ],
   "source": [
    "missing.sort_values(ascending=False)"
   ]
  },
  {
   "cell_type": "code",
   "execution_count": 73,
   "metadata": {},
   "outputs": [
    {
     "name": "stderr",
     "output_type": "stream",
     "text": [
      "C:\\Users\\bradl\\AppData\\Local\\Temp\\ipykernel_13356\\2018064786.py:1: FutureWarning: Setting an item of incompatible dtype is deprecated and will raise an error in a future version of pandas. Value 'ffill' has dtype incompatible with float64, please explicitly cast to a compatible dtype first.\n",
      "  df.fillna('ffill', inplace=True)\n"
     ]
    }
   ],
   "source": [
    "df.fillna('ffill', inplace=True)"
   ]
  },
  {
   "cell_type": "code",
   "execution_count": 81,
   "metadata": {},
   "outputs": [
    {
     "data": {
      "text/plain": [
       "SalePrice_Target\n",
       "0    732\n",
       "1    728\n",
       "Name: count, dtype: int64"
      ]
     },
     "execution_count": 81,
     "metadata": {},
     "output_type": "execute_result"
    }
   ],
   "source": [
    "df['SalePrice'].describe()\n",
    "df['SalePrice_Target'] = df['SalePrice'].apply(lambda x: 1 if x > 163000 else 0)\n",
    "df['SalePrice_Target'].value_counts()"
   ]
  },
  {
   "cell_type": "code",
   "execution_count": 83,
   "metadata": {},
   "outputs": [
    {
     "name": "stdout",
     "output_type": "stream",
     "text": [
      "Best_Params:  {'max_depth': 5, 'min_samples_leaf': 0.015, 'n_estimators': 100}\n",
      "Train_Score:  0.9285714285714286\n",
      "Test_Score:  0.9269406392694064\n"
     ]
    }
   ],
   "source": [
    "from sklearn.model_selection import train_test_split, GridSearchCV\n",
    "from sklearn.ensemble import RandomForestClassifier\n",
    "from sklearn.tree import DecisionTreeClassifier\n",
    "\n",
    "new_df = df.select_dtypes(include=None, exclude=['object'])\n",
    "\n",
    "X = new_df.drop(['SalePrice', 'SalePrice_Target'], axis=1)\n",
    "y = new_df['SalePrice_Target']\n",
    "\n",
    "X_train, X_test, y_train, y_test = train_test_split(X, y, test_size=0.3, random_state=42)\n",
    "\n",
    "rf_params = {'max_depth':[2,3,4,5,6],\n",
    "             'min_samples_leaf':[.015,.02,.03,.04,.05],\n",
    "             'n_estimators':[10, 60, 100]}\n",
    "\n",
    "rf = GridSearchCV(RandomForestClassifier(), rf_params, cv=5, n_jobs=-1)\n",
    "rf.fit(X_train, y_train)\n",
    "\n",
    "print(\"Best_Params: \", rf.best_params_)\n",
    "print(\"Train_Score: \", rf.score(X_train, y_train))\n",
    "print(\"Test_Score: \", rf.score(X_test, y_test))"
   ]
  },
  {
   "cell_type": "code",
   "execution_count": 88,
   "metadata": {},
   "outputs": [
    {
     "data": {
      "image/png": "[encoded data removed]",
      "text/plain": [
       "<Figure size 1000x600 with 1 Axes>"
      ]
     },
     "metadata": {},
     "output_type": "display_data"
    }
   ],
   "source": [
    "import matplotlib.pyplot as plt\n",
    "\n",
    "feature_importance = pd.DataFrame(rf.best_estimator_.feature_importances_, index=X.columns, columns=['importance']).sort_values(by='importance', ascending=False)[:10]\n",
    "plt.figure(figsize=(10, 6))\n",
    "plt.barh(feature_importance.index, feature_importance['importance'])\n",
    "plt.show()"
   ]
  },
  {
   "cell_type": "code",
   "execution_count": 90,
   "metadata": {},
   "outputs": [
    {
     "name": "stdout",
     "output_type": "stream",
     "text": [
      "[[213  20]\n",
      " [ 12 193]]\n"
     ]
    },
    {
     "data": {
      "text/plain": [
       "<sklearn.metrics._plot.confusion_matrix.ConfusionMatrixDisplay at 0x2278aa93e00>"
      ]
     },
     "execution_count": 90,
     "metadata": {},
     "output_type": "execute_result"
    },
    {
     "data": {
      "image/png": "[encoded data removed]",
      "text/plain": [
       "<Figure size 640x480 with 2 Axes>"
      ]
     },
     "metadata": {},
     "output_type": "display_data"
    }
   ],
   "source": [
    "from sklearn.metrics import classification_report, confusion_matrix, ConfusionMatrixDisplay\n",
    "\n",
    "y_pred = rf.predict(X_test)\n",
    "print(confusion_matrix(y_test, y_pred))\n",
    "\n",
    "ConfusionMatrixDisplay(confusion_matrix(y_test, y_pred)).plot()"
   ]
  },
  {
   "cell_type": "code",
   "execution_count": 92,
   "metadata": {},
   "outputs": [
    {
     "name": "stdout",
     "output_type": "stream",
     "text": [
      "Best_Params:  {'max_depth': 6, 'min_samples_leaf': 0.015, 'n_estimators': 100}\n",
      "Train_Score:  0.928762926081961\n",
      "Test_Score:  0.9341723136495643\n"
     ]
    }
   ],
   "source": [
    "from sklearn.metrics import fbeta_score,  make_scorer\n",
    "\n",
    "fbeta = make_scorer(fbeta_score, beta=2)\n",
    "\n",
    "rf_2 = GridSearchCV(RandomForestClassifier(), rf_params, cv=5, n_jobs=-1, scoring=fbeta)\n",
    "rf_2.fit(X_train, y_train)\n",
    "\n",
    "print(\"Best_Params: \", rf_2.best_params_)\n",
    "print(\"Train_Score: \", rf_2.score(X_train, y_train))\n",
    "print(\"Test_Score: \", rf_2.score(X_test, y_test))\n",
    "\n",
    "y_pred_2 = rf_2.predict(X_test)\n"
   ]
  },
  {
   "cell_type": "code",
   "execution_count": 94,
   "metadata": {},
   "outputs": [
    {
     "data": {
      "text/plain": [
       "<sklearn.metrics._plot.confusion_matrix.ConfusionMatrixDisplay at 0x227ee3582f0>"
      ]
     },
     "execution_count": 94,
     "metadata": {},
     "output_type": "execute_result"
    },
    {
     "data": {
      "image/png": "[encoded data removed]",
      "text/plain": [
       "<Figure size 640x480 with 2 Axes>"
      ]
     },
     "metadata": {},
     "output_type": "display_data"
    }
   ],
   "source": [
    "ConfusionMatrixDisplay(confusion_matrix(y_test, y_pred_2)).plot()"
   ]
  },
  {
   "cell_type": "code",
   "execution_count": 97,
   "metadata": {},
   "outputs": [
    {
     "name": "stdout",
     "output_type": "stream",
     "text": [
      "1:                precision    recall  f1-score   support\n",
      "\n",
      "           0       0.95      0.91      0.93       233\n",
      "           1       0.91      0.94      0.92       205\n",
      "\n",
      "    accuracy                           0.93       438\n",
      "   macro avg       0.93      0.93      0.93       438\n",
      "weighted avg       0.93      0.93      0.93       438\n",
      "\n",
      "2:                precision    recall  f1-score   support\n",
      "\n",
      "           0       0.95      0.91      0.93       233\n",
      "           1       0.91      0.94      0.92       205\n",
      "\n",
      "    accuracy                           0.93       438\n",
      "   macro avg       0.93      0.93      0.93       438\n",
      "weighted avg       0.93      0.93      0.93       438\n",
      "\n"
     ]
    }
   ],
   "source": [
    "print(\"1: \",classification_report(y_test, y_pred))\n",
    "print(\"2: \",classification_report(y_test, y_pred_2))"
   ]
  },
  {
   "cell_type": "code",
   "execution_count": 99,
   "metadata": {},
   "outputs": [
    {
     "name": "stdout",
     "output_type": "stream",
     "text": [
      "Best_Params:  {'max_depth': 4, 'min_samples_leaf': 0.015, 'n_estimators': 10}\n",
      "Train_Score:  -260\n",
      "Test_Score:  -97\n",
      "3:                precision    recall  f1-score   support\n",
      "\n",
      "           0       0.93      0.93      0.93       233\n",
      "           1       0.92      0.92      0.92       205\n",
      "\n",
      "    accuracy                           0.92       438\n",
      "   macro avg       0.92      0.92      0.92       438\n",
      "weighted avg       0.92      0.92      0.92       438\n",
      "\n"
     ]
    }
   ],
   "source": [
    "cost_fp = 1\n",
    "cost_fn = 5\n",
    "\n",
    "def cost_sensitive_score(y_true, y_pred):\n",
    "    tn, fp, fn, tp = confusion_matrix(y_true, y_pred).ravel()\n",
    "    return -total_cost(fp, fn, cost_fp, cost_fn)\n",
    "\n",
    "def total_cost(fp, fn, cost_fp, cost_fn):\n",
    "    return fp * cost_fp + fn * cost_fn\n",
    "\n",
    "custom_scorer = make_scorer(cost_sensitive_score)\n",
    "\n",
    "rf_3 = GridSearchCV(RandomForestClassifier(), rf_params, cv=5, n_jobs=-1, scoring=custom_scorer)\n",
    "\n",
    "rf_3.fit(X_train, y_train)\n",
    "\n",
    "print(\"Best_Params: \", rf_3.best_params_)\n",
    "print(\"Train_Score: \", rf_3.score(X_train, y_train))\n",
    "print(\"Test_Score: \", rf_3.score(X_test, y_test))\n",
    "\n",
    "y_pred_3 = rf_3.predict(X_test)\n",
    "\n",
    "print(\"3: \",classification_report(y_test, y_pred_3))\n",
    "\n"
   ]
  },
  {
   "cell_type": "code",
   "execution_count": 100,
   "metadata": {},
   "outputs": [
    {
     "data": {
      "text/plain": [
       "<sklearn.metrics._plot.confusion_matrix.ConfusionMatrixDisplay at 0x2278aec6510>"
      ]
     },
     "execution_count": 100,
     "metadata": {},
     "output_type": "execute_result"
    },
    {
     "data": {
      "image/png": "[encoded data removed]",
      "text/plain": [
       "<Figure size 640x480 with 2 Axes>"
      ]
     },
     "metadata": {},
     "output_type": "display_data"
    }
   ],
   "source": [
    "ConfusionMatrixDisplay(confusion_matrix(y_test, y_pred_3)).plot()"
   ]
  },
  {
   "cell_type": "code",
   "execution_count": 104,
   "metadata": {},
   "outputs": [
    {
     "data": {
      "image/png": "[encoded data removed]",
      "text/plain": [
       "<Figure size 640x480 with 1 Axes>"
      ]
     },
     "metadata": {},
     "output_type": "display_data"
    }
   ],
   "source": [
    "from sklearn.metrics import roc_auc_score, roc_curve, RocCurveDisplay\n",
    "roc_display = RocCurveDisplay.from_estimator(rf, X_test, y_test)\n"
   ]
  },
  {
   "cell_type": "code",
   "execution_count": 106,
   "metadata": {},
   "outputs": [
    {
     "name": "stdout",
     "output_type": "stream",
     "text": [
      "Best Params:  {'max_depth': 6, 'min_samples_leaf': 0.015, 'n_estimators': 100}\n",
      "Best Score:  0.9710523143523144\n"
     ]
    }
   ],
   "source": [
    "rf_4 = GridSearchCV(RandomForestClassifier(), rf_params, cv=5, n_jobs=-1, scoring='roc_auc')\n",
    "rf_4.fit(X_train, y_train)\n",
    "print(\"Best Params: \", rf_4.best_params_)\n",
    "print(\"Best Score: \", rf_4.best_score_)"
   ]
  },
  {
   "cell_type": "code",
   "execution_count": 107,
   "metadata": {},
   "outputs": [
    {
     "name": "stdout",
     "output_type": "stream",
     "text": [
      "ROC_AUC:  0.9820579922537422\n"
     ]
    }
   ],
   "source": [
    "y_pred_proba = rf_4.predict_proba(X_test)[:,1]\n",
    "roc_auc = roc_auc_score(y_test, y_pred_proba)\n",
    "print(\"ROC_AUC: \", roc_auc)"
   ]
  },
  {
   "cell_type": "code",
   "execution_count": 108,
   "metadata": {},
   "outputs": [
    {
     "data": {
      "text/plain": [
       "<sklearn.metrics._plot.roc_curve.RocCurveDisplay at 0x2278cf03830>"
      ]
     },
     "execution_count": 108,
     "metadata": {},
     "output_type": "execute_result"
    },
    {
     "data": {
      "image/png": "[encoded data removed]",
      "text/plain": [
       "<Figure size 640x480 with 1 Axes>"
      ]
     },
     "metadata": {},
     "output_type": "display_data"
    }
   ],
   "source": [
    "RocCurveDisplay.from_estimator(rf_4, X_test, y_test)"
   ]
  },
  {
   "cell_type": "code",
   "execution_count": null,
   "metadata": {},
   "outputs": [],
   "source": []
  }
 ],
 "metadata": {
  "kernelspec": {
   "display_name": "Python 3",
   "language": "python",
   "name": "python3"
  },
  "language_info": {
   "codemirror_mode": {
    "name": "ipython",
    "version": 3
   },
   "file_extension": ".py",
   "mimetype": "text/x-python",
   "name": "python",
   "nbconvert_exporter": "python",
   "pygments_lexer": "ipython3",
   "version": "3.12.3"
  }
 },
 "nbformat": 4,
 "nbformat_minor": 2
}
